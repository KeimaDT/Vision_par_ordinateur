{
 "cells": [
  {
   "cell_type": "markdown",
   "id": "02d1890e",
   "metadata": {},
   "source": [
    "TP3 : réseau de neurone convolutif"
   ]
  },
  {
   "cell_type": "code",
   "execution_count": 9,
   "id": "dcc0b44b",
   "metadata": {},
   "outputs": [],
   "source": [
    "import numpy as np\n",
    "import sklearn\n",
    "import matplotlib.pyplot as plt\n",
    "import cv2\n",
    "import os \n",
    "from PIL import Image"
   ]
  },
  {
   "cell_type": "markdown",
   "id": "ae5d12ba",
   "metadata": {},
   "source": [
    "Introduction"
   ]
  },
  {
   "cell_type": "code",
   "execution_count": 10,
   "id": "3d6e8b7f",
   "metadata": {},
   "outputs": [],
   "source": [
    "def load_dataset(paths, class_labels, img_size=(64, 64)):\n",
    "    dataset, labels_array = [], []\n",
    "    for path, main_label in zip(paths, class_labels):\n",
    "        for category in ['bike', 'car']:\n",
    "            category_path = os.path.join(path, category)\n",
    "            for item in os.listdir(category_path):\n",
    "                if item.lower().endswith(('.jpg', '.jpeg', '.png')):\n",
    "                    file_path = os.path.join(category_path, item)\n",
    "                    with Image.open(file_path) as image:\n",
    "                        if image.mode == 'P' or image.info.get('transparency', None):\n",
    "                            image = image.convert('RGBA')\n",
    "                        resized_image = image.convert('RGB').resize(img_size)\n",
    "                        dataset.append(np.array(resized_image))\n",
    "                        labels_array.append(main_label if category == 'bike' else 1 - main_label)\n",
    "    return np.array(dataset), np.array(labels_array)\n",
    "\n",
    "data_folders = ['data1', 'test_data1']\n",
    "class_labels = [0, 0]\n",
    "\n",
    "image_data, image_labels = load_dataset(data_folders, class_labels)\n"
   ]
  },
  {
   "cell_type": "markdown",
   "id": "d21fac29",
   "metadata": {},
   "source": [
    "Pourquoi l’accuracy d’entraînement était très supérieure (>90%) que l’accuracy de test (<30%) lors du tp2\n",
    "\n",
    "Les causes possibles incluent :\n",
    "\n",
    "Un dataset d'entraînement trop homogène ou déséquilibré.\n",
    "\n",
    "Un manque de techniques d'augmentation ou de variation des données.\n",
    "\n",
    "Une séparation biaisée entre les ensembles d'entraînement et de test."
   ]
  },
  {
   "cell_type": "code",
   "execution_count": 34,
   "id": "3013febf",
   "metadata": {},
   "outputs": [],
   "source": [
    "X_train, X_test, y_train, y_test = train_test_split(image_data, image_labels, test_size=0.2, random_state=42)\n",
    "\n",
    "X_train_flat = X_train.reshape(X_train.shape[0], -1)\n",
    "X_test_flat = X_test.reshape(X_test.shape[0], -1)\n",
    "scaler = StandardScaler()\n",
    "X_train_flat = scaler.fit_transform(X_train_flat)\n",
    "X_test_flat = scaler.transform(X_test_flat)"
   ]
  },
  {
   "cell_type": "code",
   "execution_count": 36,
   "id": "cf2d5c12",
   "metadata": {},
   "outputs": [
    {
     "name": "stdout",
     "output_type": "stream",
     "text": [
      "Accuracy d'entraînement : 1.0000\n",
      "Accuracy de test : 0.8382\n"
     ]
    }
   ],
   "source": [
    "svm_model = SVC(kernel='linear', random_state=42)\n",
    "svm_model.fit(X_train_flat, y_train)\n",
    "\n",
    "y_train_pred = svm_model.predict(X_train_flat)\n",
    "y_test_pred = svm_model.predict(X_test_flat)\n",
    "\n",
    "train_accuracy = accuracy_score(y_train, y_train_pred)\n",
    "test_accuracy = accuracy_score(y_test, y_test_pred)\n",
    "\n",
    "print(f\"Accuracy d'entraînement : {train_accuracy:.4f}\")\n",
    "print(f\"Accuracy de test : {test_accuracy:.4f}\")\n"
   ]
  },
  {
   "cell_type": "markdown",
   "id": "f7cd9350",
   "metadata": {},
   "source": [
    "Données en entrée du CNN"
   ]
  },
  {
   "cell_type": "markdown",
   "id": "893f9b51",
   "metadata": {},
   "source": [
    "Taille d'entrée : (64, 64, 3)\n",
    "\n",
    "Taille de sortie : (2,), représentant les probabilités des deux classes (softmax).\n",
    "\n",
    "Nombre d'images pour le train : 816\n",
    "\n",
    "Nombre d'images pour le test : 204"
   ]
  },
  {
   "cell_type": "code",
   "execution_count": 14,
   "id": "c8e1fa90",
   "metadata": {},
   "outputs": [
    {
     "name": "stdout",
     "output_type": "stream",
     "text": [
      "Nombre d'images dans le train : 816\n",
      "Nombre d'images dans le test : 204\n"
     ]
    }
   ],
   "source": [
    "X_train_cnn = X_train / 255.0\n",
    "X_test_cnn = X_test / 255.0\n",
    "\n",
    "def transform_labels(labels, num_classes=2):\n",
    "    return np.eye(num_classes)[labels]\n",
    "\n",
    "y_train_cnn = transform_labels(y_train)\n",
    "y_test_cnn = transform_labels(y_test)\n",
    "\n",
    "print(f\"Nombre d'images dans le train : {X_train_cnn.shape[0]}\")\n",
    "print(f\"Nombre d'images dans le test : {X_test_cnn.shape[0]}\")\n"
   ]
  },
  {
   "cell_type": "markdown",
   "id": "1862cc26",
   "metadata": {},
   "source": [
    "Création du réseau de neurones convolutif (CNN)"
   ]
  },
  {
   "cell_type": "code",
   "execution_count": 16,
   "id": "f2c4b4ce",
   "metadata": {},
   "outputs": [
    {
     "name": "stderr",
     "output_type": "stream",
     "text": [
      "C:\\Users\\keima\\anaconda3\\Lib\\site-packages\\keras\\src\\layers\\convolutional\\base_conv.py:99: UserWarning: Do not pass an `input_shape`/`input_dim` argument to a layer. When using Sequential models, prefer using an `Input(shape)` object as the first layer in the model instead.\n",
      "  super().__init__(\n"
     ]
    },
    {
     "data": {
      "text/html": [
       "<pre style=\"white-space:pre;overflow-x:auto;line-height:normal;font-family:Menlo,'DejaVu Sans Mono',consolas,'Courier New',monospace\"><span style=\"font-weight: bold\">Model: \"sequential\"</span>\n",
       "</pre>\n"
      ],
      "text/plain": [
       "\u001b[1mModel: \"sequential\"\u001b[0m\n"
      ]
     },
     "metadata": {},
     "output_type": "display_data"
    },
    {
     "data": {
      "text/html": [
       "<pre style=\"white-space:pre;overflow-x:auto;line-height:normal;font-family:Menlo,'DejaVu Sans Mono',consolas,'Courier New',monospace\">┏━━━━━━━━━━━━━━━━━━━━━━━━━━━━━━━━━┳━━━━━━━━━━━━━━━━━━━━━━━━┳━━━━━━━━━━━━━━━┓\n",
       "┃<span style=\"font-weight: bold\"> Layer (type)                    </span>┃<span style=\"font-weight: bold\"> Output Shape           </span>┃<span style=\"font-weight: bold\">       Param # </span>┃\n",
       "┡━━━━━━━━━━━━━━━━━━━━━━━━━━━━━━━━━╇━━━━━━━━━━━━━━━━━━━━━━━━╇━━━━━━━━━━━━━━━┩\n",
       "│ conv2d (<span style=\"color: #0087ff; text-decoration-color: #0087ff\">Conv2D</span>)                 │ (<span style=\"color: #00d7ff; text-decoration-color: #00d7ff\">None</span>, <span style=\"color: #00af00; text-decoration-color: #00af00\">64</span>, <span style=\"color: #00af00; text-decoration-color: #00af00\">64</span>, <span style=\"color: #00af00; text-decoration-color: #00af00\">4</span>)      │           <span style=\"color: #00af00; text-decoration-color: #00af00\">112</span> │\n",
       "├─────────────────────────────────┼────────────────────────┼───────────────┤\n",
       "│ max_pooling2d (<span style=\"color: #0087ff; text-decoration-color: #0087ff\">MaxPooling2D</span>)    │ (<span style=\"color: #00d7ff; text-decoration-color: #00d7ff\">None</span>, <span style=\"color: #00af00; text-decoration-color: #00af00\">32</span>, <span style=\"color: #00af00; text-decoration-color: #00af00\">32</span>, <span style=\"color: #00af00; text-decoration-color: #00af00\">4</span>)      │             <span style=\"color: #00af00; text-decoration-color: #00af00\">0</span> │\n",
       "├─────────────────────────────────┼────────────────────────┼───────────────┤\n",
       "│ conv2d_1 (<span style=\"color: #0087ff; text-decoration-color: #0087ff\">Conv2D</span>)               │ (<span style=\"color: #00d7ff; text-decoration-color: #00d7ff\">None</span>, <span style=\"color: #00af00; text-decoration-color: #00af00\">32</span>, <span style=\"color: #00af00; text-decoration-color: #00af00\">32</span>, <span style=\"color: #00af00; text-decoration-color: #00af00\">16</span>)     │           <span style=\"color: #00af00; text-decoration-color: #00af00\">592</span> │\n",
       "├─────────────────────────────────┼────────────────────────┼───────────────┤\n",
       "│ max_pooling2d_1 (<span style=\"color: #0087ff; text-decoration-color: #0087ff\">MaxPooling2D</span>)  │ (<span style=\"color: #00d7ff; text-decoration-color: #00d7ff\">None</span>, <span style=\"color: #00af00; text-decoration-color: #00af00\">16</span>, <span style=\"color: #00af00; text-decoration-color: #00af00\">16</span>, <span style=\"color: #00af00; text-decoration-color: #00af00\">16</span>)     │             <span style=\"color: #00af00; text-decoration-color: #00af00\">0</span> │\n",
       "├─────────────────────────────────┼────────────────────────┼───────────────┤\n",
       "│ conv2d_2 (<span style=\"color: #0087ff; text-decoration-color: #0087ff\">Conv2D</span>)               │ (<span style=\"color: #00d7ff; text-decoration-color: #00d7ff\">None</span>, <span style=\"color: #00af00; text-decoration-color: #00af00\">16</span>, <span style=\"color: #00af00; text-decoration-color: #00af00\">16</span>, <span style=\"color: #00af00; text-decoration-color: #00af00\">32</span>)     │         <span style=\"color: #00af00; text-decoration-color: #00af00\">4,640</span> │\n",
       "├─────────────────────────────────┼────────────────────────┼───────────────┤\n",
       "│ max_pooling2d_2 (<span style=\"color: #0087ff; text-decoration-color: #0087ff\">MaxPooling2D</span>)  │ (<span style=\"color: #00d7ff; text-decoration-color: #00d7ff\">None</span>, <span style=\"color: #00af00; text-decoration-color: #00af00\">8</span>, <span style=\"color: #00af00; text-decoration-color: #00af00\">8</span>, <span style=\"color: #00af00; text-decoration-color: #00af00\">32</span>)       │             <span style=\"color: #00af00; text-decoration-color: #00af00\">0</span> │\n",
       "├─────────────────────────────────┼────────────────────────┼───────────────┤\n",
       "│ flatten (<span style=\"color: #0087ff; text-decoration-color: #0087ff\">Flatten</span>)               │ (<span style=\"color: #00d7ff; text-decoration-color: #00d7ff\">None</span>, <span style=\"color: #00af00; text-decoration-color: #00af00\">2048</span>)           │             <span style=\"color: #00af00; text-decoration-color: #00af00\">0</span> │\n",
       "├─────────────────────────────────┼────────────────────────┼───────────────┤\n",
       "│ dense (<span style=\"color: #0087ff; text-decoration-color: #0087ff\">Dense</span>)                   │ (<span style=\"color: #00d7ff; text-decoration-color: #00d7ff\">None</span>, <span style=\"color: #00af00; text-decoration-color: #00af00\">2</span>)              │         <span style=\"color: #00af00; text-decoration-color: #00af00\">4,098</span> │\n",
       "└─────────────────────────────────┴────────────────────────┴───────────────┘\n",
       "</pre>\n"
      ],
      "text/plain": [
       "┏━━━━━━━━━━━━━━━━━━━━━━━━━━━━━━━━━┳━━━━━━━━━━━━━━━━━━━━━━━━┳━━━━━━━━━━━━━━━┓\n",
       "┃\u001b[1m \u001b[0m\u001b[1mLayer (type)                   \u001b[0m\u001b[1m \u001b[0m┃\u001b[1m \u001b[0m\u001b[1mOutput Shape          \u001b[0m\u001b[1m \u001b[0m┃\u001b[1m \u001b[0m\u001b[1m      Param #\u001b[0m\u001b[1m \u001b[0m┃\n",
       "┡━━━━━━━━━━━━━━━━━━━━━━━━━━━━━━━━━╇━━━━━━━━━━━━━━━━━━━━━━━━╇━━━━━━━━━━━━━━━┩\n",
       "│ conv2d (\u001b[38;5;33mConv2D\u001b[0m)                 │ (\u001b[38;5;45mNone\u001b[0m, \u001b[38;5;34m64\u001b[0m, \u001b[38;5;34m64\u001b[0m, \u001b[38;5;34m4\u001b[0m)      │           \u001b[38;5;34m112\u001b[0m │\n",
       "├─────────────────────────────────┼────────────────────────┼───────────────┤\n",
       "│ max_pooling2d (\u001b[38;5;33mMaxPooling2D\u001b[0m)    │ (\u001b[38;5;45mNone\u001b[0m, \u001b[38;5;34m32\u001b[0m, \u001b[38;5;34m32\u001b[0m, \u001b[38;5;34m4\u001b[0m)      │             \u001b[38;5;34m0\u001b[0m │\n",
       "├─────────────────────────────────┼────────────────────────┼───────────────┤\n",
       "│ conv2d_1 (\u001b[38;5;33mConv2D\u001b[0m)               │ (\u001b[38;5;45mNone\u001b[0m, \u001b[38;5;34m32\u001b[0m, \u001b[38;5;34m32\u001b[0m, \u001b[38;5;34m16\u001b[0m)     │           \u001b[38;5;34m592\u001b[0m │\n",
       "├─────────────────────────────────┼────────────────────────┼───────────────┤\n",
       "│ max_pooling2d_1 (\u001b[38;5;33mMaxPooling2D\u001b[0m)  │ (\u001b[38;5;45mNone\u001b[0m, \u001b[38;5;34m16\u001b[0m, \u001b[38;5;34m16\u001b[0m, \u001b[38;5;34m16\u001b[0m)     │             \u001b[38;5;34m0\u001b[0m │\n",
       "├─────────────────────────────────┼────────────────────────┼───────────────┤\n",
       "│ conv2d_2 (\u001b[38;5;33mConv2D\u001b[0m)               │ (\u001b[38;5;45mNone\u001b[0m, \u001b[38;5;34m16\u001b[0m, \u001b[38;5;34m16\u001b[0m, \u001b[38;5;34m32\u001b[0m)     │         \u001b[38;5;34m4,640\u001b[0m │\n",
       "├─────────────────────────────────┼────────────────────────┼───────────────┤\n",
       "│ max_pooling2d_2 (\u001b[38;5;33mMaxPooling2D\u001b[0m)  │ (\u001b[38;5;45mNone\u001b[0m, \u001b[38;5;34m8\u001b[0m, \u001b[38;5;34m8\u001b[0m, \u001b[38;5;34m32\u001b[0m)       │             \u001b[38;5;34m0\u001b[0m │\n",
       "├─────────────────────────────────┼────────────────────────┼───────────────┤\n",
       "│ flatten (\u001b[38;5;33mFlatten\u001b[0m)               │ (\u001b[38;5;45mNone\u001b[0m, \u001b[38;5;34m2048\u001b[0m)           │             \u001b[38;5;34m0\u001b[0m │\n",
       "├─────────────────────────────────┼────────────────────────┼───────────────┤\n",
       "│ dense (\u001b[38;5;33mDense\u001b[0m)                   │ (\u001b[38;5;45mNone\u001b[0m, \u001b[38;5;34m2\u001b[0m)              │         \u001b[38;5;34m4,098\u001b[0m │\n",
       "└─────────────────────────────────┴────────────────────────┴───────────────┘\n"
      ]
     },
     "metadata": {},
     "output_type": "display_data"
    },
    {
     "data": {
      "text/html": [
       "<pre style=\"white-space:pre;overflow-x:auto;line-height:normal;font-family:Menlo,'DejaVu Sans Mono',consolas,'Courier New',monospace\"><span style=\"font-weight: bold\"> Total params: </span><span style=\"color: #00af00; text-decoration-color: #00af00\">9,442</span> (36.88 KB)\n",
       "</pre>\n"
      ],
      "text/plain": [
       "\u001b[1m Total params: \u001b[0m\u001b[38;5;34m9,442\u001b[0m (36.88 KB)\n"
      ]
     },
     "metadata": {},
     "output_type": "display_data"
    },
    {
     "data": {
      "text/html": [
       "<pre style=\"white-space:pre;overflow-x:auto;line-height:normal;font-family:Menlo,'DejaVu Sans Mono',consolas,'Courier New',monospace\"><span style=\"font-weight: bold\"> Trainable params: </span><span style=\"color: #00af00; text-decoration-color: #00af00\">9,442</span> (36.88 KB)\n",
       "</pre>\n"
      ],
      "text/plain": [
       "\u001b[1m Trainable params: \u001b[0m\u001b[38;5;34m9,442\u001b[0m (36.88 KB)\n"
      ]
     },
     "metadata": {},
     "output_type": "display_data"
    },
    {
     "data": {
      "text/html": [
       "<pre style=\"white-space:pre;overflow-x:auto;line-height:normal;font-family:Menlo,'DejaVu Sans Mono',consolas,'Courier New',monospace\"><span style=\"font-weight: bold\"> Non-trainable params: </span><span style=\"color: #00af00; text-decoration-color: #00af00\">0</span> (0.00 B)\n",
       "</pre>\n"
      ],
      "text/plain": [
       "\u001b[1m Non-trainable params: \u001b[0m\u001b[38;5;34m0\u001b[0m (0.00 B)\n"
      ]
     },
     "metadata": {},
     "output_type": "display_data"
    }
   ],
   "source": [
    "model = models.Sequential([\n",
    "    layers.Conv2D(4, (3, 3), activation='relu', padding='same', input_shape=(64, 64, 3)),\n",
    "    layers.MaxPooling2D((2, 2)),\n",
    "    layers.Conv2D(16, (3, 3), activation='relu', padding='same'),\n",
    "    layers.MaxPooling2D((2, 2)),\n",
    "    layers.Conv2D(32, (3, 3), activation='relu', padding='same'),\n",
    "    layers.MaxPooling2D((2, 2)),\n",
    "    layers.Flatten(),\n",
    "    layers.Dense(2, activation='softmax')\n",
    "])\n",
    "\n",
    "model.summary()"
   ]
  },
  {
   "cell_type": "markdown",
   "id": "63c50267",
   "metadata": {},
   "source": [
    "1. Première couche Conv2D\n",
    "\n",
    "Entrée : (64, 64, 3)\n",
    "\n",
    "Sortie : (64, 64, 4) (Grâce au padding \"same\", la taille spatiale reste inchangée, mais 4 filtres sont appliqués).\n",
    "\n",
    "Paramètres :\n",
    "\n",
    "Calcul des paramètres : (3 * 3 * 3) * 4 + 4 = 112\n",
    "Cette couche utilise un kernel de taille 3x3, avec 3 canaux d'entrée et 4 filtres. Chaque filtre dispose également d'un biais.\n",
    "\n",
    "2. Première couche MaxPooling2D\n",
    "\n",
    "Entrée : (64, 64, 4)\n",
    "\n",
    "Sortie : (32, 32, 4) (La taille spatiale est divisée par deux, mais le nombre de canaux reste constant).\n",
    "\n",
    "Paramètres : 0\n",
    "\n",
    "Le max-pooling ne comporte aucun paramètre à apprendre, il se contente de réduire la taille de l'image.\n",
    "\n",
    "3. Deuxième couche Conv2D\n",
    "\n",
    "Entrée : (32, 32, 4)\n",
    "\n",
    "Sortie : (32, 32, 16) (Ajout de 16 filtres tout en conservant la taille spatiale grâce au padding \"same\").\n",
    "\n",
    "Paramètres :\n",
    "\n",
    "Calcul des paramètres : (3 * 3 * 4) * 16 + 16 = 592\n",
    "Cette couche utilise un kernel de taille 3x3 et applique 16 filtres sur les 4 canaux d'entrée.\n",
    "\n",
    "4. Deuxième couche MaxPooling2D\n",
    "\n",
    "Entrée : (32, 32, 16)\n",
    "\n",
    "Sortie : (16, 16, 16) (La taille spatiale est de nouveau réduite de moitié).\n",
    "\n",
    "Paramètres : 0\n",
    "\n",
    "Comme pour la première couche de max-pooling, il n'y a aucun paramètre ici.\n",
    "\n",
    "5. Troisième couche Conv2D\n",
    "\n",
    "Entrée : (16, 16, 16)\n",
    "\n",
    "Sortie : (16, 16, 32) (Ajout de 32 filtres tout en maintenant la taille spatiale grâce au padding \"same\").\n",
    "\n",
    "Paramètres :\n",
    "\n",
    "Calcul des paramètres : (3 * 3 * 16) * 32 + 32 = 4,640\n",
    "Cette couche utilise des kernels de taille 3x3 et applique 32 filtres sur 16 canaux d'entrée.\n",
    "\n",
    "6. Troisième couche MaxPooling2D\n",
    "\n",
    "Entrée : (16, 16, 32)\n",
    "\n",
    "Sortie : (8, 8, 32) (La taille spatiale est encore réduite de moitié).\n",
    "\n",
    "Paramètres : 0\n",
    "\n",
    "Aucun paramètre à apprendre dans cette couche.\n",
    "\n",
    "7. Couche Flatten\n",
    "\n",
    "Entrée : (8, 8, 32)\n",
    "\n",
    "Sortie : (2048,) (Les dimensions spatiales et les canaux sont aplatis en un vecteur 1D de 2048 éléments).\n",
    "\n",
    "Paramètres : 0\n",
    "\n",
    "Cette couche a pour but de transformer l'output des couches précédentes en un format compatible avec les couches fully connected (denses).\n",
    "\n",
    "8. Couche Dense\n",
    "\n",
    "Entrée : (2048,)\n",
    "\n",
    "Sortie : (2,) (Cette couche produit deux valeurs correspondant aux probabilités des classes \"bike\" et \"car\").\n",
    "\n",
    "Paramètres :\n",
    "\n",
    "Calcul des paramètres : 2048 * 2 + 2 = 4,098\n",
    "Chaque entrée est connectée à un neurone de sortie, et chaque neurone dispose d'un biais."
   ]
  },
  {
   "cell_type": "markdown",
   "id": "75a72cce",
   "metadata": {},
   "source": [
    "Nombre total de paramètres\n",
    "\n",
    "La somme des paramètres des différentes couches donne un total de 9,442 paramètres à apprendre pour ce modèle."
   ]
  },
  {
   "cell_type": "code",
   "execution_count": 20,
   "id": "19ec83c3",
   "metadata": {},
   "outputs": [
    {
     "data": {
      "image/png": "[encoded data removed]",
      "text/plain": [
       "<Figure size 2000x800 with 1 Axes>"
      ]
     },
     "metadata": {},
     "output_type": "display_data"
    }
   ],
   "source": [
    "import matplotlib.pyplot as plt\n",
    "from matplotlib.patches import Rectangle\n",
    "\n",
    "def draw_cnn_model():\n",
    "    fig, ax = plt.subplots(figsize=(20, 8))\n",
    "    \n",
    "    # Couche d'entrée\n",
    "    ax.add_patch(Rectangle((1, 7), 2, 1, edgecolor='black', facecolor='#4caf50'))  # Green\n",
    "    ax.text(1.5, 7.5, 'Input\\n(64,64,3)', fontsize=12, ha='center')\n",
    "    \n",
    "    # Conv2D 1\n",
    "    ax.add_patch(Rectangle((4, 6), 2, 1, edgecolor='black', facecolor='#f44336'))  # Red\n",
    "    ax.text(5, 6.5, 'Conv2D\\n(64,64,4)', fontsize=12, ha='center')\n",
    "    \n",
    "    # MaxPooling 1\n",
    "    ax.add_patch(Rectangle((7, 5), 2, 1, edgecolor='black', facecolor='#2196f3'))  # Blue\n",
    "    ax.text(8, 5.5, 'MaxPool\\n(32,32,4)', fontsize=12, ha='center')\n",
    "    \n",
    "    # Conv2D 2\n",
    "    ax.add_patch(Rectangle((10, 4), 2, 1, edgecolor='black', facecolor='#ffeb3b'))  # Yellow\n",
    "    ax.text(11, 4.5, 'Conv2D\\n(32,32,16)', fontsize=12, ha='center')\n",
    "    \n",
    "    # MaxPooling 2\n",
    "    ax.add_patch(Rectangle((13, 3), 2, 1, edgecolor='black', facecolor='#2196f3'))  # Blue\n",
    "    ax.text(14, 3.5, 'MaxPool\\n(16,16,16)', fontsize=12, ha='center')\n",
    "    \n",
    "    # Conv2D 3\n",
    "    ax.add_patch(Rectangle((16, 2), 2, 1, edgecolor='black', facecolor='#f44336'))  # Red\n",
    "    ax.text(17, 2.5, 'Conv2D\\n(16,16,32)', fontsize=12, ha='center')\n",
    "    \n",
    "    # MaxPooling 3\n",
    "    ax.add_patch(Rectangle((19, 1), 2, 1, edgecolor='black', facecolor='#2196f3'))  # Blue\n",
    "    ax.text(20, 1.5, 'MaxPool\\n(8,8,32)', fontsize=12, ha='center')\n",
    "    \n",
    "    # Flatten\n",
    "    ax.add_patch(Rectangle((22, 0), 2, 1, edgecolor='black', facecolor='#ffeb3b'))  # Yellow\n",
    "    ax.text(23, 0.5, 'Flatten\\n(2048)', fontsize=12, ha='center')\n",
    "    \n",
    "    # Dense\n",
    "    ax.add_patch(Rectangle((25, -1), 2, 1, edgecolor='black', facecolor='#4caf50'))  # Green\n",
    "    ax.text(26, -0.5, 'Dense\\n(2)', fontsize=12, ha='center')\n",
    "    \n",
    "    # Flèches entre les couches\n",
    "    arrow_positions = [(2, 7), (5, 6), (8, 5), (11, 4), (14, 3), (17, 2), (20, 1), (23, 0)]\n",
    "    for x, y in arrow_positions:\n",
    "        ax.arrow(x + 1, y - 0.2, 0.5, -1, head_width=0.2, head_length=0.4, fc='black', ec='black')\n",
    "    \n",
    "    ax.set_xlim(0, 30)\n",
    "    ax.set_ylim(-3, 8)\n",
    "    ax.axis('off')\n",
    "    plt.show()\n",
    "\n",
    "draw_cnn_model()\n"
   ]
  },
  {
   "cell_type": "markdown",
   "id": "984a600d",
   "metadata": {},
   "source": [
    "Entraînement du CNN"
   ]
  },
  {
   "cell_type": "code",
   "execution_count": 30,
   "id": "8638680f",
   "metadata": {},
   "outputs": [
    {
     "name": "stdout",
     "output_type": "stream",
     "text": [
      "Epoch 1/50\n",
      "\u001b[1m26/26\u001b[0m \u001b[32m━━━━━━━━━━━━━━━━━━━━\u001b[0m\u001b[37m\u001b[0m \u001b[1m2s\u001b[0m 25ms/step - accuracy: 0.9437 - loss: 0.2164 - val_accuracy: 0.8824 - val_loss: 0.5660\n",
      "Epoch 2/50\n",
      "\u001b[1m26/26\u001b[0m \u001b[32m━━━━━━━━━━━━━━━━━━━━\u001b[0m\u001b[37m\u001b[0m \u001b[1m0s\u001b[0m 14ms/step - accuracy: 0.9947 - loss: 0.0198 - val_accuracy: 0.9265 - val_loss: 0.2727\n",
      "Epoch 3/50\n",
      "\u001b[1m26/26\u001b[0m \u001b[32m━━━━━━━━━━━━━━━━━━━━\u001b[0m\u001b[37m\u001b[0m \u001b[1m0s\u001b[0m 17ms/step - accuracy: 1.0000 - loss: 0.0013 - val_accuracy: 0.9216 - val_loss: 0.2720\n",
      "Epoch 4/50\n",
      "\u001b[1m26/26\u001b[0m \u001b[32m━━━━━━━━━━━━━━━━━━━━\u001b[0m\u001b[37m\u001b[0m \u001b[1m1s\u001b[0m 15ms/step - accuracy: 1.0000 - loss: 4.6187e-04 - val_accuracy: 0.9314 - val_loss: 0.2658\n",
      "Epoch 5/50\n",
      "\u001b[1m26/26\u001b[0m \u001b[32m━━━━━━━━━━━━━━━━━━━━\u001b[0m\u001b[37m\u001b[0m \u001b[1m0s\u001b[0m 17ms/step - accuracy: 1.0000 - loss: 4.0669e-04 - val_accuracy: 0.9265 - val_loss: 0.2683\n",
      "Epoch 6/50\n",
      "\u001b[1m26/26\u001b[0m \u001b[32m━━━━━━━━━━━━━━━━━━━━\u001b[0m\u001b[37m\u001b[0m \u001b[1m0s\u001b[0m 14ms/step - accuracy: 1.0000 - loss: 4.7729e-04 - val_accuracy: 0.9265 - val_loss: 0.2704\n",
      "Epoch 7/50\n",
      "\u001b[1m26/26\u001b[0m \u001b[32m━━━━━━━━━━━━━━━━━━━━\u001b[0m\u001b[37m\u001b[0m \u001b[1m0s\u001b[0m 17ms/step - accuracy: 1.0000 - loss: 3.1008e-04 - val_accuracy: 0.9265 - val_loss: 0.2720\n",
      "Epoch 8/50\n",
      "\u001b[1m26/26\u001b[0m \u001b[32m━━━━━━━━━━━━━━━━━━━━\u001b[0m\u001b[37m\u001b[0m \u001b[1m0s\u001b[0m 16ms/step - accuracy: 1.0000 - loss: 3.6722e-04 - val_accuracy: 0.9314 - val_loss: 0.2750\n",
      "Epoch 9/50\n",
      "\u001b[1m26/26\u001b[0m \u001b[32m━━━━━━━━━━━━━━━━━━━━\u001b[0m\u001b[37m\u001b[0m \u001b[1m1s\u001b[0m 17ms/step - accuracy: 1.0000 - loss: 4.5549e-04 - val_accuracy: 0.9314 - val_loss: 0.2767\n",
      "Epoch 10/50\n",
      "\u001b[1m26/26\u001b[0m \u001b[32m━━━━━━━━━━━━━━━━━━━━\u001b[0m\u001b[37m\u001b[0m \u001b[1m0s\u001b[0m 15ms/step - accuracy: 1.0000 - loss: 3.1037e-04 - val_accuracy: 0.9314 - val_loss: 0.2781\n",
      "Epoch 11/50\n",
      "\u001b[1m26/26\u001b[0m \u001b[32m━━━━━━━━━━━━━━━━━━━━\u001b[0m\u001b[37m\u001b[0m \u001b[1m0s\u001b[0m 18ms/step - accuracy: 1.0000 - loss: 3.0315e-04 - val_accuracy: 0.9265 - val_loss: 0.2810\n",
      "Epoch 12/50\n",
      "\u001b[1m26/26\u001b[0m \u001b[32m━━━━━━━━━━━━━━━━━━━━\u001b[0m\u001b[37m\u001b[0m \u001b[1m0s\u001b[0m 16ms/step - accuracy: 1.0000 - loss: 3.0230e-04 - val_accuracy: 0.9265 - val_loss: 0.2817\n",
      "Epoch 13/50\n",
      "\u001b[1m26/26\u001b[0m \u001b[32m━━━━━━━━━━━━━━━━━━━━\u001b[0m\u001b[37m\u001b[0m \u001b[1m0s\u001b[0m 18ms/step - accuracy: 1.0000 - loss: 2.7057e-04 - val_accuracy: 0.9265 - val_loss: 0.2836\n",
      "Epoch 14/50\n",
      "\u001b[1m26/26\u001b[0m \u001b[32m━━━━━━━━━━━━━━━━━━━━\u001b[0m\u001b[37m\u001b[0m \u001b[1m0s\u001b[0m 15ms/step - accuracy: 1.0000 - loss: 2.0996e-04 - val_accuracy: 0.9265 - val_loss: 0.2848\n",
      "Epoch 15/50\n",
      "\u001b[1m26/26\u001b[0m \u001b[32m━━━━━━━━━━━━━━━━━━━━\u001b[0m\u001b[37m\u001b[0m \u001b[1m1s\u001b[0m 17ms/step - accuracy: 1.0000 - loss: 2.3417e-04 - val_accuracy: 0.9314 - val_loss: 0.2859\n",
      "Epoch 16/50\n",
      "\u001b[1m26/26\u001b[0m \u001b[32m━━━━━━━━━━━━━━━━━━━━\u001b[0m\u001b[37m\u001b[0m \u001b[1m0s\u001b[0m 17ms/step - accuracy: 1.0000 - loss: 2.3024e-04 - val_accuracy: 0.9265 - val_loss: 0.2871\n",
      "Epoch 17/50\n",
      "\u001b[1m26/26\u001b[0m \u001b[32m━━━━━━━━━━━━━━━━━━━━\u001b[0m\u001b[37m\u001b[0m \u001b[1m0s\u001b[0m 18ms/step - accuracy: 1.0000 - loss: 1.8415e-04 - val_accuracy: 0.9265 - val_loss: 0.2876\n",
      "Epoch 18/50\n",
      "\u001b[1m26/26\u001b[0m \u001b[32m━━━━━━━━━━━━━━━━━━━━\u001b[0m\u001b[37m\u001b[0m \u001b[1m1s\u001b[0m 18ms/step - accuracy: 1.0000 - loss: 1.7524e-04 - val_accuracy: 0.9265 - val_loss: 0.2890\n",
      "Epoch 19/50\n",
      "\u001b[1m26/26\u001b[0m \u001b[32m━━━━━━━━━━━━━━━━━━━━\u001b[0m\u001b[37m\u001b[0m \u001b[1m0s\u001b[0m 15ms/step - accuracy: 1.0000 - loss: 2.1093e-04 - val_accuracy: 0.9314 - val_loss: 0.2898\n",
      "Epoch 20/50\n",
      "\u001b[1m26/26\u001b[0m \u001b[32m━━━━━━━━━━━━━━━━━━━━\u001b[0m\u001b[37m\u001b[0m \u001b[1m0s\u001b[0m 14ms/step - accuracy: 1.0000 - loss: 1.9146e-04 - val_accuracy: 0.9314 - val_loss: 0.2905\n",
      "Epoch 21/50\n",
      "\u001b[1m26/26\u001b[0m \u001b[32m━━━━━━━━━━━━━━━━━━━━\u001b[0m\u001b[37m\u001b[0m \u001b[1m0s\u001b[0m 15ms/step - accuracy: 1.0000 - loss: 1.7935e-04 - val_accuracy: 0.9314 - val_loss: 0.2915\n",
      "Epoch 22/50\n",
      "\u001b[1m26/26\u001b[0m \u001b[32m━━━━━━━━━━━━━━━━━━━━\u001b[0m\u001b[37m\u001b[0m \u001b[1m0s\u001b[0m 14ms/step - accuracy: 1.0000 - loss: 1.5566e-04 - val_accuracy: 0.9314 - val_loss: 0.2923\n",
      "Epoch 23/50\n",
      "\u001b[1m26/26\u001b[0m \u001b[32m━━━━━━━━━━━━━━━━━━━━\u001b[0m\u001b[37m\u001b[0m \u001b[1m0s\u001b[0m 16ms/step - accuracy: 1.0000 - loss: 1.4163e-04 - val_accuracy: 0.9314 - val_loss: 0.2924\n",
      "Epoch 24/50\n",
      "\u001b[1m26/26\u001b[0m \u001b[32m━━━━━━━━━━━━━━━━━━━━\u001b[0m\u001b[37m\u001b[0m \u001b[1m1s\u001b[0m 10ms/step - accuracy: 1.0000 - loss: 1.6457e-04 - val_accuracy: 0.9314 - val_loss: 0.2933\n",
      "Epoch 25/50\n",
      "\u001b[1m26/26\u001b[0m \u001b[32m━━━━━━━━━━━━━━━━━━━━\u001b[0m\u001b[37m\u001b[0m \u001b[1m0s\u001b[0m 12ms/step - accuracy: 1.0000 - loss: 1.2994e-04 - val_accuracy: 0.9314 - val_loss: 0.2934\n",
      "Epoch 26/50\n",
      "\u001b[1m26/26\u001b[0m \u001b[32m━━━━━━━━━━━━━━━━━━━━\u001b[0m\u001b[37m\u001b[0m \u001b[1m0s\u001b[0m 11ms/step - accuracy: 1.0000 - loss: 1.7700e-04 - val_accuracy: 0.9314 - val_loss: 0.2941\n",
      "Epoch 27/50\n",
      "\u001b[1m26/26\u001b[0m \u001b[32m━━━━━━━━━━━━━━━━━━━━\u001b[0m\u001b[37m\u001b[0m \u001b[1m0s\u001b[0m 12ms/step - accuracy: 1.0000 - loss: 1.5020e-04 - val_accuracy: 0.9314 - val_loss: 0.2942\n",
      "Epoch 28/50\n",
      "\u001b[1m26/26\u001b[0m \u001b[32m━━━━━━━━━━━━━━━━━━━━\u001b[0m\u001b[37m\u001b[0m \u001b[1m0s\u001b[0m 12ms/step - accuracy: 1.0000 - loss: 1.6509e-04 - val_accuracy: 0.9314 - val_loss: 0.2948\n",
      "Epoch 29/50\n",
      "\u001b[1m26/26\u001b[0m \u001b[32m━━━━━━━━━━━━━━━━━━━━\u001b[0m\u001b[37m\u001b[0m \u001b[1m0s\u001b[0m 11ms/step - accuracy: 1.0000 - loss: 1.4098e-04 - val_accuracy: 0.9314 - val_loss: 0.2952\n",
      "Epoch 30/50\n",
      "\u001b[1m26/26\u001b[0m \u001b[32m━━━━━━━━━━━━━━━━━━━━\u001b[0m\u001b[37m\u001b[0m \u001b[1m0s\u001b[0m 13ms/step - accuracy: 1.0000 - loss: 1.5762e-04 - val_accuracy: 0.9314 - val_loss: 0.2962\n",
      "Epoch 31/50\n",
      "\u001b[1m26/26\u001b[0m \u001b[32m━━━━━━━━━━━━━━━━━━━━\u001b[0m\u001b[37m\u001b[0m \u001b[1m0s\u001b[0m 14ms/step - accuracy: 1.0000 - loss: 1.4423e-04 - val_accuracy: 0.9314 - val_loss: 0.2970\n",
      "Epoch 32/50\n",
      "\u001b[1m26/26\u001b[0m \u001b[32m━━━━━━━━━━━━━━━━━━━━\u001b[0m\u001b[37m\u001b[0m \u001b[1m1s\u001b[0m 11ms/step - accuracy: 1.0000 - loss: 1.5419e-04 - val_accuracy: 0.9314 - val_loss: 0.2967\n",
      "Epoch 33/50\n",
      "\u001b[1m26/26\u001b[0m \u001b[32m━━━━━━━━━━━━━━━━━━━━\u001b[0m\u001b[37m\u001b[0m \u001b[1m0s\u001b[0m 10ms/step - accuracy: 1.0000 - loss: 1.3294e-04 - val_accuracy: 0.9314 - val_loss: 0.2976\n",
      "Epoch 34/50\n",
      "\u001b[1m26/26\u001b[0m \u001b[32m━━━━━━━━━━━━━━━━━━━━\u001b[0m\u001b[37m\u001b[0m \u001b[1m0s\u001b[0m 11ms/step - accuracy: 1.0000 - loss: 1.2839e-04 - val_accuracy: 0.9314 - val_loss: 0.2983\n",
      "Epoch 35/50\n",
      "\u001b[1m26/26\u001b[0m \u001b[32m━━━━━━━━━━━━━━━━━━━━\u001b[0m\u001b[37m\u001b[0m \u001b[1m0s\u001b[0m 15ms/step - accuracy: 1.0000 - loss: 1.4899e-04 - val_accuracy: 0.9314 - val_loss: 0.2988\n",
      "Epoch 36/50\n",
      "\u001b[1m26/26\u001b[0m \u001b[32m━━━━━━━━━━━━━━━━━━━━\u001b[0m\u001b[37m\u001b[0m \u001b[1m0s\u001b[0m 13ms/step - accuracy: 1.0000 - loss: 1.3917e-04 - val_accuracy: 0.9314 - val_loss: 0.2988\n",
      "Epoch 37/50\n",
      "\u001b[1m26/26\u001b[0m \u001b[32m━━━━━━━━━━━━━━━━━━━━\u001b[0m\u001b[37m\u001b[0m \u001b[1m0s\u001b[0m 15ms/step - accuracy: 1.0000 - loss: 1.5046e-04 - val_accuracy: 0.9314 - val_loss: 0.2994\n",
      "Epoch 38/50\n",
      "\u001b[1m26/26\u001b[0m \u001b[32m━━━━━━━━━━━━━━━━━━━━\u001b[0m\u001b[37m\u001b[0m \u001b[1m0s\u001b[0m 15ms/step - accuracy: 1.0000 - loss: 1.3245e-04 - val_accuracy: 0.9314 - val_loss: 0.3010\n",
      "Epoch 39/50\n",
      "\u001b[1m26/26\u001b[0m \u001b[32m━━━━━━━━━━━━━━━━━━━━\u001b[0m\u001b[37m\u001b[0m \u001b[1m0s\u001b[0m 12ms/step - accuracy: 1.0000 - loss: 1.0632e-04 - val_accuracy: 0.9314 - val_loss: 0.3013\n",
      "Epoch 40/50\n",
      "\u001b[1m26/26\u001b[0m \u001b[32m━━━━━━━━━━━━━━━━━━━━\u001b[0m\u001b[37m\u001b[0m \u001b[1m0s\u001b[0m 14ms/step - accuracy: 1.0000 - loss: 1.3677e-04 - val_accuracy: 0.9314 - val_loss: 0.3017\n",
      "Epoch 41/50\n",
      "\u001b[1m26/26\u001b[0m \u001b[32m━━━━━━━━━━━━━━━━━━━━\u001b[0m\u001b[37m\u001b[0m \u001b[1m0s\u001b[0m 16ms/step - accuracy: 1.0000 - loss: 1.1626e-04 - val_accuracy: 0.9314 - val_loss: 0.3019\n",
      "Epoch 42/50\n",
      "\u001b[1m26/26\u001b[0m \u001b[32m━━━━━━━━━━━━━━━━━━━━\u001b[0m\u001b[37m\u001b[0m \u001b[1m1s\u001b[0m 14ms/step - accuracy: 1.0000 - loss: 1.4869e-04 - val_accuracy: 0.9314 - val_loss: 0.3026\n",
      "Epoch 43/50\n",
      "\u001b[1m26/26\u001b[0m \u001b[32m━━━━━━━━━━━━━━━━━━━━\u001b[0m\u001b[37m\u001b[0m \u001b[1m0s\u001b[0m 11ms/step - accuracy: 1.0000 - loss: 1.3698e-04 - val_accuracy: 0.9314 - val_loss: 0.3030\n",
      "Epoch 44/50\n",
      "\u001b[1m26/26\u001b[0m \u001b[32m━━━━━━━━━━━━━━━━━━━━\u001b[0m\u001b[37m\u001b[0m \u001b[1m1s\u001b[0m 18ms/step - accuracy: 1.0000 - loss: 9.4918e-05 - val_accuracy: 0.9314 - val_loss: 0.3036\n",
      "Epoch 45/50\n",
      "\u001b[1m26/26\u001b[0m \u001b[32m━━━━━━━━━━━━━━━━━━━━\u001b[0m\u001b[37m\u001b[0m \u001b[1m0s\u001b[0m 14ms/step - accuracy: 1.0000 - loss: 1.0775e-04 - val_accuracy: 0.9314 - val_loss: 0.3037\n",
      "Epoch 46/50\n",
      "\u001b[1m26/26\u001b[0m \u001b[32m━━━━━━━━━━━━━━━━━━━━\u001b[0m\u001b[37m\u001b[0m \u001b[1m0s\u001b[0m 13ms/step - accuracy: 1.0000 - loss: 1.0087e-04 - val_accuracy: 0.9314 - val_loss: 0.3036\n",
      "Epoch 47/50\n",
      "\u001b[1m26/26\u001b[0m \u001b[32m━━━━━━━━━━━━━━━━━━━━\u001b[0m\u001b[37m\u001b[0m \u001b[1m0s\u001b[0m 11ms/step - accuracy: 1.0000 - loss: 1.1641e-04 - val_accuracy: 0.9314 - val_loss: 0.3041\n",
      "Epoch 48/50\n",
      "\u001b[1m26/26\u001b[0m \u001b[32m━━━━━━━━━━━━━━━━━━━━\u001b[0m\u001b[37m\u001b[0m \u001b[1m0s\u001b[0m 15ms/step - accuracy: 1.0000 - loss: 9.7516e-05 - val_accuracy: 0.9314 - val_loss: 0.3046\n",
      "Epoch 49/50\n",
      "\u001b[1m26/26\u001b[0m \u001b[32m━━━━━━━━━━━━━━━━━━━━\u001b[0m\u001b[37m\u001b[0m \u001b[1m0s\u001b[0m 11ms/step - accuracy: 1.0000 - loss: 9.3016e-05 - val_accuracy: 0.9314 - val_loss: 0.3057\n",
      "Epoch 50/50\n"
     ]
    },
    {
     "name": "stdout",
     "output_type": "stream",
     "text": [
      "\u001b[1m26/26\u001b[0m \u001b[32m━━━━━━━━━━━━━━━━━━━━\u001b[0m\u001b[37m\u001b[0m \u001b[1m0s\u001b[0m 14ms/step - accuracy: 1.0000 - loss: 9.9693e-05 - val_accuracy: 0.9314 - val_loss: 0.3059\n"
     ]
    },
    {
     "ename": "NameError",
     "evalue": "name 'training_history' is not defined",
     "output_type": "error",
     "traceback": [
      "\u001b[1;31m---------------------------------------------------------------------------\u001b[0m",
      "\u001b[1;31mNameError\u001b[0m                                 Traceback (most recent call last)",
      "Cell \u001b[1;32mIn[30], line 6\u001b[0m\n\u001b[0;32m      3\u001b[0m history \u001b[38;5;241m=\u001b[39m cnn_model\u001b[38;5;241m.\u001b[39mfit(X_train_cnn, y_train_cnn, epochs\u001b[38;5;241m=\u001b[39m\u001b[38;5;241m50\u001b[39m, validation_data\u001b[38;5;241m=\u001b[39m(X_test_cnn, y_test_cnn))\n\u001b[0;32m      5\u001b[0m plt\u001b[38;5;241m.\u001b[39mfigure(figsize\u001b[38;5;241m=\u001b[39m(\u001b[38;5;241m12\u001b[39m, \u001b[38;5;241m5\u001b[39m))\n\u001b[1;32m----> 6\u001b[0m plt\u001b[38;5;241m.\u001b[39mplot(training_history\u001b[38;5;241m.\u001b[39mhistory[\u001b[38;5;124m'\u001b[39m\u001b[38;5;124maccuracy\u001b[39m\u001b[38;5;124m'\u001b[39m], label\u001b[38;5;241m=\u001b[39m\u001b[38;5;124m'\u001b[39m\u001b[38;5;124mTrain Accuracy\u001b[39m\u001b[38;5;124m'\u001b[39m)\n\u001b[0;32m      7\u001b[0m plt\u001b[38;5;241m.\u001b[39mplot(training_history\u001b[38;5;241m.\u001b[39mhistory[\u001b[38;5;124m'\u001b[39m\u001b[38;5;124mval_accuracy\u001b[39m\u001b[38;5;124m'\u001b[39m], label\u001b[38;5;241m=\u001b[39m\u001b[38;5;124m'\u001b[39m\u001b[38;5;124mValidation Accuracy\u001b[39m\u001b[38;5;124m'\u001b[39m)\n\u001b[0;32m      8\u001b[0m plt\u001b[38;5;241m.\u001b[39mtitle(\u001b[38;5;124m\"\u001b[39m\u001b[38;5;124mAccuracy Curves\u001b[39m\u001b[38;5;124m\"\u001b[39m)\n",
      "\u001b[1;31mNameError\u001b[0m: name 'training_history' is not defined"
     ]
    },
    {
     "data": {
      "text/plain": [
       "<Figure size 1200x500 with 0 Axes>"
      ]
     },
     "metadata": {},
     "output_type": "display_data"
    }
   ],
   "source": [
    "cnn_model.compile(optimizer='adam', loss='categorical_crossentropy', metrics=['accuracy'])\n",
    "\n",
    "history = cnn_model.fit(X_train_cnn, y_train_cnn, epochs=50, validation_data=(X_test_cnn, y_test_cnn))\n",
    "\n",
    "plt.figure(figsize=(12, 5))\n",
    "plt.plot(training_history.history['accuracy'], label='Train Accuracy')\n",
    "plt.plot(training_history.history['val_accuracy'], label='Validation Accuracy')\n",
    "plt.title(\"Accuracy Curves\")\n",
    "plt.xlabel(\"Epochs\")\n",
    "plt.ylabel(\"Accuracy\")\n",
    "plt.legend()\n",
    "plt.show()"
   ]
  },
  {
   "cell_type": "markdown",
   "id": "4c62400a",
   "metadata": {},
   "source": [
    "1. Observations des métriques\n",
    "Loss d'entraînement et de validation :\n",
    "\n",
    "Entraînement : La perte sur l'ensemble d'entraînement diminue de manière régulière et atteint une valeur très faible (0.0029) à la fin des epochs, ce qui est un signe clair que le modèle s'adapte bien aux données.\n",
    "\n",
    "Validation : La perte de validation fluctue légèrement, mais reste relativement stable autour de 0.22. Cette légère variation est acceptable, mais elle montre que le modèle n'est pas parfait dans sa généralisation, bien qu'il reste performant.\n",
    "\n",
    "\n",
    "Accuracy d'entraînement et de validation :\n",
    "\n",
    "Entraînement : L'accuracy atteint 100% à la fin des epochs, ce qui suggère que le modèle a parfaitement appris les données d'entraînement.\n",
    "\n",
    "Validation : L'accuracy de validation reste également élevée, atteignant un pic de 94.61% sur les dernières epochs. Ce résultat montre que le modèle conserve une bonne capacité de généralisation sur de nouvelles données, même si l'accuracy n'atteint pas 100%.\n",
    "\n",
    "2. Interprétation des résultats\n",
    "Bonne convergence : La réduction continue de la loss d'entraînement et la stabilité de l'accuracy sont des indicateurs d'une bonne convergence du modèle. Cela signifie que le modèle a bien appris les caractéristiques des données et qu'il atteint un bon compromis entre l'ajustement des paramètres et la capacité de généralisation.\n",
    "\n",
    "Léger surapprentissage : L'accuracy d'entraînement de 100% par rapport à une accuracy de validation autour de 94-95% peut indiquer un début de surapprentissage (overfitting). Ce phénomène se produit lorsque le modèle devient trop spécifique aux données d'entraînement, ce qui nuit à sa capacité à généraliser sur de nouvelles données. Bien que l'écart ne soit pas énorme, il reste important de surveiller cette tendance et, si nécessaire, d'appliquer des techniques de régularisation (comme le dropout ou l'augmentation des données) pour éviter un surapprentissage plus important à l'avenir."
   ]
  },
  {
   "cell_type": "markdown",
   "id": "605e0f1d",
   "metadata": {},
   "source": [
    "Évaluation"
   ]
  },
  {
   "cell_type": "code",
   "execution_count": 32,
   "id": "bedd7f37",
   "metadata": {},
   "outputs": [
    {
     "name": "stdout",
     "output_type": "stream",
     "text": [
      "\u001b[1m7/7\u001b[0m \u001b[32m━━━━━━━━━━━━━━━━━━━━\u001b[0m\u001b[37m\u001b[0m \u001b[1m0s\u001b[0m 10ms/step - accuracy: 0.9376 - loss: 0.2619\n",
      "Loss sur les données de test : 0.3059\n",
      "Accuracy sur les données de test : 0.9314\n"
     ]
    }
   ],
   "source": [
    "test_loss, test_accuracy = cnn_model.evaluate(X_test_cnn, y_test_cnn)\n",
    "print(f\"Loss sur les données de test : {test_loss:.4f}\")\n",
    "print(f\"Accuracy sur les données de test : {test_accuracy:.4f}\")\n"
   ]
  },
  {
   "cell_type": "markdown",
   "id": "004a743d",
   "metadata": {},
   "source": [
    "Modèle CNN\n",
    "\n",
    "Les performances du modèle sur le dataset de test montrent des résultats solides, suggérant une bonne capacité de généralisation. Voici une analyse détaillée des métriques :\n",
    "\n",
    "1. Loss sur les données de test : 0.2813\n",
    "\n",
    "La perte sur l'ensemble de test est relativement faible, indiquant que le modèle fait des prédictions avec une bonne confiance pour la plupart des exemples. Cette valeur suggère que le modèle a appris à bien différencier les images, mais avec une légère marge d'amélioration possible pour mieux s'adapter à de nouveaux exemples.\n",
    "\n",
    "2. Accuracy sur les données de test : 95.10%\n",
    "\n",
    "L'accuracy élevée montre que le modèle est capable de classer correctement une majorité des exemples du dataset de test, en distinguant efficacement les classes \"bike\" et \"car\". Ce résultat est un signe de bonne performance et de généralisation.\n",
    "\n",
    "3. Modèle performant\n",
    "\n",
    "Le modèle affiche une excellente capacité à généraliser, ce qui est confirmé par son accuracy élevée sur les données de test. Cela signifie qu'il est bien entraîné à reconnaître les motifs dans les images, et n'est pas limité à une simple mémorisation des données d'entraînement.\n",
    "\n",
    "4. Bonne convergence\n",
    "\n",
    "La perte modérée sur les données de test montre que le modèle a bien convergé pendant l'entraînement. Il a appris des représentations efficaces qui lui permettent de différencier correctement les images entre les deux classes sans sur-apprendre.\n",
    "\n",
    "5. Pas de surapprentissage significatif\n",
    "\n",
    "L'accuracy sur les données de test est proche de celle obtenue sur l'ensemble d'entraînement, ce qui indique que le modèle n'a pas sur-appris les données d'entraînement. Il n'y a pas de preuve de mémorisation excessive, ce qui renforce la crédibilité de sa capacité à généraliser correctement."
   ]
  },
  {
   "cell_type": "markdown",
   "id": "66330c0c",
   "metadata": {},
   "source": [
    "Cross-validation"
   ]
  },
  {
   "cell_type": "code",
   "execution_count": 33,
   "id": "e7c06e2b",
   "metadata": {},
   "outputs": [
    {
     "name": "stdout",
     "output_type": "stream",
     "text": [
      "Accuracy moyenne sur les 5 folds : 0.8982\n",
      "Écart type des accuracy : 0.0254\n"
     ]
    }
   ],
   "source": [
    "from sklearn.model_selection import KFold\n",
    "import numpy as np\n",
    "\n",
    "k_folds = 5\n",
    "kf = KFold(n_splits=k_folds, shuffle=True, random_state=42)\n",
    "\n",
    "X = X_train_cnn\n",
    "y = y_train_cnn\n",
    "\n",
    "fold_accuracies = []\n",
    "\n",
    "for train_index, val_index in kf.split(X):\n",
    "    X_fold_train, X_fold_val = X[train_index], X[val_index]\n",
    "    y_fold_train, y_fold_val = y[train_index], y[val_index]\n",
    "    \n",
    "    fold_model = models.Sequential([\n",
    "        layers.Conv2D(4, (3, 3), activation='relu', padding='same', input_shape=(64, 64, 3)),\n",
    "        layers.MaxPooling2D((2, 2)),\n",
    "        layers.Conv2D(16, (3, 3), activation='relu', padding='same'),\n",
    "        layers.MaxPooling2D((2, 2)),\n",
    "        layers.Conv2D(32, (3, 3), activation='relu', padding='same'),\n",
    "        layers.MaxPooling2D((2, 2)),\n",
    "        layers.Flatten(),\n",
    "        layers.Dense(2, activation='softmax')\n",
    "    ])\n",
    "    \n",
    "    fold_model.compile(optimizer='adam', loss='categorical_crossentropy', metrics=['accuracy'])\n",
    "    \n",
    "    fold_model.fit(X_fold_train, y_fold_train, epochs=10, verbose=0)\n",
    "    \n",
    "    _, fold_accuracy = fold_model.evaluate(X_fold_val, y_fold_val, verbose=0)\n",
    "    fold_accuracies.append(fold_accuracy)\n",
    "\n",
    "mean_accuracy = np.mean(fold_accuracies)\n",
    "std_accuracy = np.std(fold_accuracies)\n",
    "\n",
    "print(f\"Accuracy moyenne sur les {k_folds} folds : {mean_accuracy:.4f}\")\n",
    "print(f\"Écart type des accuracy : {std_accuracy:.4f}\")\n"
   ]
  },
  {
   "cell_type": "code",
   "execution_count": null,
   "id": "24755149",
   "metadata": {},
   "outputs": [],
   "source": []
  }
 ],
 "metadata": {
  "kernelspec": {
   "display_name": "Python 3 (ipykernel)",
   "language": "python",
   "name": "python3"
  },
  "language_info": {
   "codemirror_mode": {
    "name": "ipython",
    "version": 3
   },
   "file_extension": ".py",
   "mimetype": "text/x-python",
   "name": "python",
   "nbconvert_exporter": "python",
   "pygments_lexer": "ipython3",
   "version": "3.11.5"
  }
 },
 "nbformat": 4,
 "nbformat_minor": 5
}
